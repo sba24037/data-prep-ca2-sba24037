{
 "cells": [
  {
   "cell_type": "code",
   "execution_count": 1,
   "id": "29ff65c5-376b-4653-b124-22e915040c7a",
   "metadata": {},
   "outputs": [],
   "source": [
    "#Import Libraries\n",
    "import pandas as pd\n",
    "import numpy as np\n",
    "import seaborn as sns\n",
    "import matplotlib.pyplot as plt\n",
    "import scipy.stats as stats\n",
    "import statsmodels.api as sm\n",
    "from sklearn.decomposition import PCA\n",
    "from sklearn.impute import SimpleImputer\n",
    "from sklearn.model_selection import train_test_split\n",
    "from sklearn.ensemble import RandomForestClassifier\n",
    "from sklearn.metrics import classification_report"
   ]
  },
  {
   "cell_type": "code",
   "execution_count": 2,
   "id": "772edbe0-9e19-4abf-b885-e3282e3f54b9",
   "metadata": {},
   "outputs": [],
   "source": [
    "# Load the dataset\n",
    "data = pd.read_csv(\"C:/Users/lkild/Downloads/spambase.csv\")"
   ]
  },
  {
   "cell_type": "code",
   "execution_count": 5,
   "id": "5ded61eb-3e04-4282-9e4c-88eea0674328",
   "metadata": {},
   "outputs": [
    {
     "name": "stdout",
     "output_type": "stream",
     "text": [
      "Dataset Characterisation:\n",
      "Number of Rows: {data.shape[0]}\n",
      "Number of Columns: {data.shape[1]}\n",
      "Data Types and Missing Values:\n",
      "<class 'pandas.core.frame.DataFrame'>\n",
      "RangeIndex: 4601 entries, 0 to 4600\n",
      "Data columns (total 59 columns):\n",
      " #   Column                      Non-Null Count  Dtype  \n",
      "---  ------                      --------------  -----  \n",
      " 0   Unnamed: 0                  4601 non-null   int64  \n",
      " 1   word_freq_make              4601 non-null   float64\n",
      " 2   word_freq_address           4601 non-null   float64\n",
      " 3   word_freq_all               4595 non-null   float64\n",
      " 4   word_freq_3d                4599 non-null   float64\n",
      " 5   word_freq_our               4601 non-null   object \n",
      " 6   word_freq_over              4600 non-null   float64\n",
      " 7   word_freq_remove            4601 non-null   float64\n",
      " 8   word_freq_internet          4586 non-null   float64\n",
      " 9   word_freq_order             4601 non-null   float64\n",
      " 10  word_freq_mail              4601 non-null   float64\n",
      " 11  word_freq_receive           4601 non-null   float64\n",
      " 12  word_freq_will              4601 non-null   float64\n",
      " 13  word_freq_people            4601 non-null   float64\n",
      " 14  word_freq_report            4601 non-null   float64\n",
      " 15  word_freq_addresses         4592 non-null   float64\n",
      " 16  word_freq_free              4601 non-null   float64\n",
      " 17  word_freq_business          4601 non-null   float64\n",
      " 18  word_freq_email             4601 non-null   float64\n",
      " 19  word_freq_you               4601 non-null   float64\n",
      " 20  word_freq_credit            4601 non-null   float64\n",
      " 21  word_freq_your              4601 non-null   float64\n",
      " 22  word_freq_font              4601 non-null   float64\n",
      " 23  word_freq_000               4601 non-null   object \n",
      " 24  word_freq_money             4601 non-null   float64\n",
      " 25  word_freq_hp                4601 non-null   float64\n",
      " 26  word_freq_hpl               4601 non-null   object \n",
      " 27  word_freq_george            4601 non-null   float64\n",
      " 28  word_freq_650               4601 non-null   float64\n",
      " 29  word_freq_lab               4601 non-null   float64\n",
      " 30  word_freq_labs              4351 non-null   object \n",
      " 31  word_freq_telnet            4601 non-null   float64\n",
      " 32  word_freq_857               4601 non-null   float64\n",
      " 33  word_freq_data              4601 non-null   float64\n",
      " 34  word_freq_415               4601 non-null   float64\n",
      " 35  word_freq_85                4601 non-null   float64\n",
      " 36  word_freq_technology        4601 non-null   float64\n",
      " 37  word_freq_1999              4601 non-null   float64\n",
      " 38  word_freq_parts             4601 non-null   float64\n",
      " 39  word_freq_pm                4601 non-null   float64\n",
      " 40  word_freq_direct            4598 non-null   float64\n",
      " 41  word_freq_cs                4587 non-null   float64\n",
      " 42  word_freq_meeting           4600 non-null   float64\n",
      " 43  word_freq_original          4601 non-null   float64\n",
      " 44  word_freq_project           4601 non-null   float64\n",
      " 45  word_freq_re                4601 non-null   float64\n",
      " 46  word_freq_edu               4601 non-null   float64\n",
      " 47  word_freq_table             4561 non-null   float64\n",
      " 48  word_freq_conference        4601 non-null   float64\n",
      " 49  char_freq_;                 4601 non-null   float64\n",
      " 50  char_freq_(                 4601 non-null   float64\n",
      " 51  char_freq_[                 4601 non-null   float64\n",
      " 52  char_freq_!                 4601 non-null   float64\n",
      " 53  char_freq_$                 4601 non-null   float64\n",
      " 54  char_freq_#                 4601 non-null   float64\n",
      " 55  capital_run_length_average  4601 non-null   float64\n",
      " 56  capital_run_length_longest  4601 non-null   int64  \n",
      " 57  capital_run_length_total    4601 non-null   int64  \n",
      " 58  is_spam                     4601 non-null   bool   \n",
      "dtypes: bool(1), float64(51), int64(3), object(4)\n",
      "memory usage: 2.0+ MB\n",
      "None\n"
     ]
    }
   ],
   "source": [
    "#Dataset Information\n",
    "print(\"Dataset Characterisation:\")\n",
    "print(\"Number of Rows: {data.shape[0]}\")\n",
    "print(\"Number of Columns: {data.shape[1]}\")\n",
    "print(\"Data Types and Missing Values:\")\n",
    "print(data.info())"
   ]
  },
  {
   "cell_type": "code",
   "execution_count": 7,
   "id": "5951faa2-097b-4ec1-8602-b44b0767d48f",
   "metadata": {},
   "outputs": [
    {
     "name": "stdout",
     "output_type": "stream",
     "text": [
      "Total Missing Values: 341\n"
     ]
    }
   ],
   "source": [
    "#Missing Values\n",
    "missing_values = data.isnull().sum().sum()\n",
    "print(f\"Total Missing Values: {missing_values}\")\n",
    "#Punyakeerthi BL (2024). DataFrames : Handling Missing Values in Pandas - Punyakeerthi BL - Medium. [online] Medium. Available at: https://medium.com/@punya8147_26846/dataframes-handling-missing-values-in-pandas-11f7702afaf7.\n"
   ]
  },
  {
   "cell_type": "code",
   "execution_count": 9,
   "id": "7d002455-67dd-425f-9a36-28b6bac333a2",
   "metadata": {},
   "outputs": [
    {
     "name": "stdout",
     "output_type": "stream",
     "text": [
      "Target Variable Distribution:\n",
      "is_spam\n",
      "False    60.595523\n",
      "True     39.404477\n",
      "Name: proportion, dtype: float64\n"
     ]
    }
   ],
   "source": [
    "#Target Variable Distribution\n",
    "target_column = 'is_spam'  \n",
    "print(\"Target Variable Distribution:\")\n",
    "print(data[target_column].value_counts(normalize=True) * 100)"
   ]
  },
  {
   "cell_type": "code",
   "execution_count": 11,
   "id": "b1e087c4-4db6-445f-b2fc-82b6c9992ec6",
   "metadata": {},
   "outputs": [],
   "source": [
    "#Rename columns for better readability\n",
    "data.columns = [col.strip().replace(' ', '_').lower() for col in data.columns]"
   ]
  },
  {
   "cell_type": "code",
   "execution_count": 13,
   "id": "e0dd4690-a724-41ee-a71b-25cb3ad4bd08",
   "metadata": {},
   "outputs": [],
   "source": [
    "#Remove unnecessary columns\n",
    "#Assuming 'unnamed:_0' is an index column and not required\n",
    "if 'unnamed:_0' in data.columns:\n",
    "    data.drop(columns=['unnamed:_0'], inplace=True)"
   ]
  },
  {
   "cell_type": "code",
   "execution_count": 15,
   "id": "40a8081b-0bd2-4366-b2b9-1bc85151e1c1",
   "metadata": {},
   "outputs": [],
   "source": [
    "#Convert columns to numeric where possible\n",
    "data = data.apply(pd.to_numeric, errors='coerce')"
   ]
  },
  {
   "cell_type": "code",
   "execution_count": null,
   "id": "876c994c-5b05-4df1-bacb-3865c9558105",
   "metadata": {},
   "outputs": [],
   "source": []
  }
 ],
 "metadata": {
  "kernelspec": {
   "display_name": "Python 3 (ipykernel)",
   "language": "python",
   "name": "python3"
  },
  "language_info": {
   "codemirror_mode": {
    "name": "ipython",
    "version": 3
   },
   "file_extension": ".py",
   "mimetype": "text/x-python",
   "name": "python",
   "nbconvert_exporter": "python",
   "pygments_lexer": "ipython3",
   "version": "3.12.4"
  }
 },
 "nbformat": 4,
 "nbformat_minor": 5
}
